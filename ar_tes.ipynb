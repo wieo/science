{
 "cells": [
  {
   "cell_type": "code",
   "execution_count": 1,
   "metadata": {},
   "outputs": [],
   "source": [
    "import numpy as np\n",
    "import pandas as pd\n",
    "\n",
    "from sklearn import manifold\n",
    "\n",
    "import plotly.offline as py\n",
    "import plotly.graph_objs as go\n",
    "\n",
    "from time import time"
   ]
  },
  {
   "cell_type": "code",
   "execution_count": 2,
   "metadata": {},
   "outputs": [],
   "source": [
    "def read_arianta_csv(csv_path):\n",
    "    \n",
    "    df = pd.read_csv(\n",
    "        csv_path,\n",
    "        index_col=0,\n",
    "        header=0,\n",
    "        delimiter=';',       \n",
    "        error_bad_lines=False, \n",
    "        dtype='unicode'\n",
    "        \n",
    "    )\n",
    "    \n",
    "    categories = [s.strip() for s in df.columns.tolist()]\n",
    "    titles = [s.strip() for s in df.index.tolist()]\n",
    "    data = df.as_matrix()\n",
    "    \n",
    "    return data, categories, titles   #   , titles"
   ]
  },
  {
   "cell_type": "code",
   "execution_count": 3,
   "metadata": {},
   "outputs": [],
   "source": [
    "def scatterplot(data, labels, title):\n",
    "    \n",
    "    trace = go.Scatter(\n",
    "        x = data[:,0],\n",
    "        y = data[:,1],\n",
    "        mode = 'markers',\n",
    "        text = labels\n",
    "    )\n",
    "\n",
    "    layout = go.Layout(\n",
    "        title = title,\n",
    "        hovermode= 'closest'\n",
    "    )\n",
    "    \n",
    "    return go.Figure(data=[trace], layout=layout)"
   ]
  },
  {
   "cell_type": "code",
   "execution_count": 4,
   "metadata": {},
   "outputs": [],
   "source": [
    "methods = {\n",
    "#  'Isomap': manifold.Isomap(n_neighbors=10, n_components=2),\n",
    "#  'MDS': manifold.MDS(n_components=2),\n",
    "#   'Spectral Clustering': manifold.SpectralEmbedding(n_components=2, n_neighbors=10),\n",
    "    't-SNE': manifold.TSNE(n_components=2)\n",
    "}"
   ]
  },
  {
   "cell_type": "code",
   "execution_count": 5,
   "metadata": {},
   "outputs": [],
   "source": [
    "def handle(map_for, weights_type, X, labels):\n",
    "    \n",
    "    for method_name, method in methods.items():\n",
    "    \n",
    "        t1 = time()\n",
    "\n",
    "        Y = method.fit_transform(X)\n",
    "\n",
    "        t2 = time()\n",
    "        dt = round(t2 - t1, 2)\n",
    "\n",
    "        title = f'{map_for}, {weights_type}, {method_name}, {dt:.2f}s'\n",
    "        filename = f'arianta-{map_for}-{weights_type}-{method_name}'.replace(' ', '-').lower()\n",
    "        \n",
    "        df = pd.DataFrame(data=Y, index=labels, columns=['x', 'y'])\n",
    "        \n",
    "        df.to_csv(f'{filename}.csv', encoding='utf-8')\n",
    "        \n",
    "        fig = scatterplot(Y, labels, title)\n",
    "        \n",
    "        py.plot(fig, filename=f\"{filename}.html\")"
   ]
  },
  {
   "cell_type": "code",
   "execution_count": 6,
   "metadata": {},
   "outputs": [
    {
     "name": "stderr",
     "output_type": "stream",
     "text": [
      "C:\\Users\\UMK\\Anaconda3\\lib\\site-packages\\ipykernel_launcher.py:15: FutureWarning:\n",
      "\n",
      "Method .as_matrix will be removed in a future version. Use .values instead.\n",
      "\n"
     ]
    }
   ],
   "source": [
    "X, category_labels, title_labels = read_arianta_csv('param_new_disc44.csv')"
   ]
  },
  {
   "cell_type": "code",
   "execution_count": 7,
   "metadata": {},
   "outputs": [],
   "source": [
    "#handle('kategorie', 'nieważone', X.transpose(), category_labels)"
   ]
  },
  {
   "cell_type": "code",
   "execution_count": 8,
   "metadata": {},
   "outputs": [],
   "source": [
    "handle('publikacje', 'nieważone', X, title_labels)\n",
    "#handle('publikacje', 'ważone', X, title_labels)"
   ]
  },
  {
   "cell_type": "code",
   "execution_count": null,
   "metadata": {},
   "outputs": [],
   "source": []
  }
 ],
 "metadata": {
  "kernelspec": {
   "display_name": "Python 3",
   "language": "python",
   "name": "python3"
  },
  "language_info": {
   "codemirror_mode": {
    "name": "ipython",
    "version": 3
   },
   "file_extension": ".py",
   "mimetype": "text/x-python",
   "name": "python",
   "nbconvert_exporter": "python",
   "pygments_lexer": "ipython3",
   "version": "3.7.3"
  }
 },
 "nbformat": 4,
 "nbformat_minor": 2
}
